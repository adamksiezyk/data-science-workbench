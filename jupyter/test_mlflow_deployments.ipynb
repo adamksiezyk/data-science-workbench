{
 "cells": [
  {
   "cell_type": "markdown",
   "id": "e7cb636c-ed02-4bec-a49d-b2cb55d91f34",
   "metadata": {},
   "source": [
    "# MLflow Deployments inference"
   ]
  },
  {
   "cell_type": "markdown",
   "id": "717b4279-3aff-4304-921e-e00a44c8388d",
   "metadata": {},
   "source": [
    "### Install requirements"
   ]
  },
  {
   "cell_type": "code",
   "execution_count": null,
   "id": "28d214ba-8ea1-4535-ae47-d184b3efa88f",
   "metadata": {},
   "outputs": [],
   "source": [
    "!pip install -q mlflow[genai]"
   ]
  },
  {
   "cell_type": "code",
   "execution_count": null,
   "id": "235c733e-63c0-40e5-841b-354eaa28954a",
   "metadata": {},
   "outputs": [],
   "source": [
    "import mlflow.deployments"
   ]
  },
  {
   "cell_type": "markdown",
   "id": "d1823e69-bbb9-449a-85db-11982b948da9",
   "metadata": {},
   "source": [
    "### Connect to Deployments Server\n",
    "\n",
    "The target URI is set automatically in container environment variables `MLFLOW_DEPLOYMENTS_TARGET`."
   ]
  },
  {
   "cell_type": "code",
   "execution_count": null,
   "id": "7c9727dc-fcf3-473c-9d1d-8f93cd57c801",
   "metadata": {},
   "outputs": [],
   "source": [
    "client = mlflow.deployments.get_deploy_client()"
   ]
  },
  {
   "cell_type": "markdown",
   "id": "81458bc7-c619-43a8-a4d6-9de84e3fdbe6",
   "metadata": {},
   "source": [
    "### Show available endpoints"
   ]
  },
  {
   "cell_type": "code",
   "execution_count": null,
   "id": "cc72ce46-a0ef-4851-96e4-fb38951631f9",
   "metadata": {},
   "outputs": [],
   "source": [
    "client.list_endpoints()"
   ]
  },
  {
   "cell_type": "markdown",
   "id": "a79c45cc-f6c5-42f7-9175-5d52ed023e17",
   "metadata": {},
   "source": [
    "### Query the self-hosted LLM\n",
    "\n",
    "Only Chat Completions are supported."
   ]
  },
  {
   "cell_type": "code",
   "execution_count": null,
   "id": "74ff03e7-7b51-41fd-8410-2af1d8b2eb6e",
   "metadata": {},
   "outputs": [],
   "source": [
    "query = {\n",
    "    'messages': [\n",
    "        {\"role\": \"system\", \"content\": \"You are the sorting hat from harry potter.\"},\n",
    "        {\"role\": \"user\", \"content\": \"I am brave, hard-working, wise, and backstabbing.\"},\n",
    "        {\"role\": \"user\", \"content\": \"Which harry potter house am I most likely to belong to?\"},\n",
    "    ],\n",
    "    'temperature': 0.2,\n",
    "    'max_tokens': 1024,\n",
    "}\n",
    "response = client.predict(endpoint=\"llamacpp\", inputs=query)\n",
    "print(response)"
   ]
  },
  {
   "cell_type": "code",
   "execution_count": null,
   "id": "93709d51-ef29-4e76-b8ed-f2562b61ab96",
   "metadata": {},
   "outputs": [],
   "source": [
    "print(response['choices'][0]['message']['content'].strip())"
   ]
  }
 ],
 "metadata": {
  "kernelspec": {
   "display_name": "Python 3 (ipykernel)",
   "language": "python",
   "name": "python3"
  },
  "language_info": {
   "codemirror_mode": {
    "name": "ipython",
    "version": 3
   },
   "file_extension": ".py",
   "mimetype": "text/x-python",
   "name": "python",
   "nbconvert_exporter": "python",
   "pygments_lexer": "ipython3",
   "version": "3.11.8"
  }
 },
 "nbformat": 4,
 "nbformat_minor": 5
}
